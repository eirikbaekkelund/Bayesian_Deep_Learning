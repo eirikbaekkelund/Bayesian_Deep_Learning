{
 "cells": [
  {
   "cell_type": "code",
   "execution_count": 1,
   "metadata": {},
   "outputs": [],
   "source": [
    "import numpy as np\n",
    "import torch\n",
    "import matplotlib.pyplot as plt"
   ]
  },
  {
   "cell_type": "code",
   "execution_count": null,
   "metadata": {},
   "outputs": [],
   "source": [
    "def initialize(n_samples):\n",
    "    normal_dist = torch.distributions.Normal(loc=0, scale=1, validate_args=False)\n",
    "    transform = \n",
    "    epsilon = normal_dist.sample((n_samples,))\n"
   ]
  }
 ],
 "metadata": {
  "interpreter": {
   "hash": "fe3f05434994f8f40b62b7a842a4d284a09e5cdb62d98927152580f7c19a8881"
  },
  "kernelspec": {
   "display_name": "Python 3.9.11 ('base')",
   "language": "python",
   "name": "python3"
  },
  "language_info": {
   "codemirror_mode": {
    "name": "ipython",
    "version": 3
   },
   "file_extension": ".py",
   "mimetype": "text/x-python",
   "name": "python",
   "nbconvert_exporter": "python",
   "pygments_lexer": "ipython3",
   "version": "3.9.11"
  },
  "orig_nbformat": 4
 },
 "nbformat": 4,
 "nbformat_minor": 2
}
